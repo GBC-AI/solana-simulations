{
 "cells": [
  {
   "cell_type": "code",
   "execution_count": 1,
   "metadata": {},
   "outputs": [],
   "source": [
    "import docker\n",
    "client = docker.from_env()"
   ]
  },
  {
   "cell_type": "code",
   "execution_count": 6,
   "metadata": {},
   "outputs": [
    {
     "data": {
      "text/plain": [
       "[<Image: 'python_trans_conf:6'>,\n",
       " <Image: 'ad159:latest'>,\n",
       " <Image: 'nikromanov/solana-velas:1.5.0'>,\n",
       " <Image: 'trans_simul:0.2'>,\n",
       " <Image: 'solana:142'>,\n",
       " <Image: 'python:3.7'>,\n",
       " <Image: 'ubu_config:latest'>,\n",
       " <Image: 'ubuntu:latest'>]"
      ]
     },
     "execution_count": 6,
     "metadata": {},
     "output_type": "execute_result"
    }
   ],
   "source": [
    "client.images.list()"
   ]
  },
  {
   "cell_type": "code",
   "execution_count": 5,
   "metadata": {},
   "outputs": [
    {
     "data": {
      "text/plain": [
       "b''"
      ]
     },
     "execution_count": 5,
     "metadata": {},
     "output_type": "execute_result"
    }
   ],
   "source": [
    "client.containers.run('python_trans_conf:6', command=\"python velas-ss/transaction_sender.py --tps 100 --s 2\",\n",
    "                      volumes={'/Users/korg/PycharmProjects/velas-ss/tools/': {'bind': '/velas-ss/', 'mode': 'rw'},\n",
    "                              '/Users/korg/PycharmProjects/velas-ss/my_vol/': {'bind': '/mnt/logs', 'mode': 'rw'}})"
   ]
  },
  {
   "cell_type": "code",
   "execution_count": 9,
   "metadata": {},
   "outputs": [],
   "source": [
    "solanka = client.containers.run('nikromanov/solana-velas:1.5.0', \n",
    "                      command='''bash -c 'sleep 3 && ./multinode-demo/setup.sh &&\n",
    "                      nohup bash -c \"./multinode-demo/bootstrap-validator.sh --enable-rpc-transaction-history --log /mnt/logs/solana_genesis_node.txt &\" &&\n",
    "                      ./multinode-demo/faucet.sh' ''',\n",
    "                      volumes={'/Users/korg/PycharmProjects/velas-ss/my_vol/': {'bind': '/mnt/logs', 'mode': 'rw'}},\n",
    "                      detach=True\n",
    "                     )"
   ]
  },
  {
   "cell_type": "code",
   "execution_count": 16,
   "metadata": {},
   "outputs": [
    {
     "name": "stdout",
     "output_type": "stream",
     "text": [
      "Requirement already satisfied: pyyaml in /anaconda3/lib/python3.7/site-packages (3.13)\r\n"
     ]
    }
   ],
   "source": [
    "!pip install pyyaml"
   ]
  },
  {
   "cell_type": "code",
   "execution_count": 17,
   "metadata": {},
   "outputs": [
    {
     "name": "stdout",
     "output_type": "stream",
     "text": [
      "{'version': '3.8', 'services': {'config_generator': {'image': 'python:3.8-slim', 'command': 'bash -c \"python config_generator.py --output /solana/config/config.toml\"', 'volumes': ['/mnt/nfs_share/solana/ad159v2/config:/solana/config', '../configs:/config_generator/'], 'working_dir': '/config_generator', 'user': '10000:2001', 'deploy': {'placement': {'constraints': ['node.role==manager']}}}, 'genesis_node': {'image': 'nikromanov/solana-velas:1.5.0', 'depends_on': ['config_generator'], 'command': 'bash -c \\'sleep 3 && ./multinode-demo/setup.sh && nohup bash -c \"./multinode-demo/bootstrap-validator.sh --enable-rpc-transaction-history --gossip-host genesis_node --log /mnt/logs/solana_genesis_node.txt &\" && ./multinode-demo/faucet.sh\\'', 'volumes': ['/mnt/nfs_share/solana/ad159v2/logs:/mnt/logs', '/mnt/nfs_share/solana/ad159v2/config:/solana/config'], 'environment': ['TOML_CONFIG=/solana/config/config.toml'], 'networks': ['solana_net']}, 'validator': {'image': 'nikromanov/solana-velas:1.5.0', 'depends_on': ['genesis_node'], 'command': 'bash -c \"sleep 7 && ./multinode-demo/validator.sh --label `hostname` --entrypoint genesis_node:8001 --log /mnt/logs/solana_validator_`hostname`.txt\"', 'volumes': ['/mnt/nfs_share/solana/ad159v2/logs:/mnt/logs', '/mnt/nfs_share/solana/ad159v2/config:/solana/config'], 'environment': ['TOML_CONFIG=/solana/config/config.toml'], 'networks': ['solana_net'], 'deploy': {'replicas': 2, 'placement': {'max_replicas_per_node': 10}, 'restart_policy': {'condition': 'none'}, 'resources': {'limits': {'cpus': '4', 'memory': '4G'}, 'reservations': {'cpus': '1', 'memory': '50M'}}}}, 'transaction': {'image': 'python_trans_conf:5', 'depends_on': ['validator'], 'command': 'bash -c \"sleep 25 && python velas-ss/transaction_sender.py --tps 100 --s 20 --host http://genesis_node\"', 'volumes': ['/mnt/nfs_share/solana/ad159v2/logs:/mnt/logs', '../tools:/velas-ss/'], 'networks': ['solana_net'], 'user': '10000:2001', 'deploy': {'placement': {'constraints': ['node.role==manager']}}}}, 'networks': {'solana_net': {'driver': 'overlay', 'attachable': True}}}\n"
     ]
    }
   ],
   "source": [
    "import yaml\n",
    "\n",
    "with open('docker-multinode/docker-stack.yml') as f:\n",
    "    templates = yaml.safe_load(f)\n",
    "\n",
    "print(templates)"
   ]
  },
  {
   "cell_type": "code",
   "execution_count": 18,
   "metadata": {},
   "outputs": [],
   "source": [
    "import subprocess"
   ]
  },
  {
   "cell_type": "code",
   "execution_count": 21,
   "metadata": {},
   "outputs": [
    {
     "data": {
      "text/plain": [
       "(b'total 112\\n-rw-r--r--  1 korg  staff    174 Jan 12 23:56 Dockerfile\\n-rw-r--r--  1 korg  staff    138 Dec 23 22:07 Pipfile\\n-rw-r--r--  1 korg  staff    453 Dec 23 22:07 Pipfile.lock\\n-rw-r--r--  1 korg  staff    840 Jan 12 15:16 README.md\\ndrwxr-xr-x  5 korg  staff    160 Dec 23 22:07 configs\\ndrwxr-xr-x  7 korg  staff    224 Dec 23 22:08 docker-multinode\\ndrwxr-xr-x  6 korg  staff    192 Jan 12 23:54 dockers\\n-rw-r--r--  1 korg  staff   9905 Jan 13 22:02 exrunner.ipynb\\ndrwxr-xr-x  5 korg  staff    160 Jan 13 12:51 my_vol\\n-rw-r--r--  1 korg  staff   3463 Dec 23 22:07 notes.txt\\n-rw-r--r--  1 korg  staff    391 Dec 23 22:07 requirements.txt\\n-rw-r--r--  1 korg  staff  15562 Jan 12 15:06 sender_tr.log\\n-rw-r--r--  1 korg  staff   1343 Jan 12 15:06 simulation_result.json\\ndrwxr-xr-x  4 korg  staff    128 Jan 13 01:01 tools\\n',\n",
       " b'')"
      ]
     },
     "execution_count": 21,
     "metadata": {},
     "output_type": "execute_result"
    }
   ],
   "source": [
    "subprocess.Popen(['ls', '-l'], stdout=subprocess.PIPE, stderr=subprocess.PIPE).communicate()"
   ]
  },
  {
   "cell_type": "code",
   "execution_count": null,
   "metadata": {},
   "outputs": [],
   "source": []
  },
  {
   "cell_type": "code",
   "execution_count": null,
   "metadata": {},
   "outputs": [],
   "source": []
  },
  {
   "cell_type": "code",
   "execution_count": null,
   "metadata": {},
   "outputs": [],
   "source": [
    "try:\n",
    "    os.mkdir('/mnt/nfs_share/solana/ad160')\n",
    "exec:\n",
    "    pass\n",
    "\n",
    "for i in range(2):\n",
    "    os.mkdir('/mnt/nfs_share/solana/ad160v' +str(i)+ '/logs')\n",
    "    os.mkdir('/mnt/nfs_share/solana/ad160v' +str(i)+ '/config')\n",
    "    os.mkdir('touch /mnt/nfs_share/solana/ad160v0/config/1.txt')\n",
    "    "
   ]
  }
 ],
 "metadata": {
  "kernelspec": {
   "display_name": "Python 3",
   "language": "python",
   "name": "python3"
  },
  "language_info": {
   "codemirror_mode": {
    "name": "ipython",
    "version": 3
   },
   "file_extension": ".py",
   "mimetype": "text/x-python",
   "name": "python",
   "nbconvert_exporter": "python",
   "pygments_lexer": "ipython3",
   "version": "3.7.1"
  }
 },
 "nbformat": 4,
 "nbformat_minor": 2
}
